{
 "cells": [
  {
   "cell_type": "code",
   "execution_count": 15,
   "metadata": {},
   "outputs": [],
   "source": [
    "using ramnet\n",
    "using Images\n",
    "using MLDatasets"
   ]
  },
  {
   "cell_type": "code",
   "execution_count": 2,
   "metadata": {
    "scrolled": true
   },
   "outputs": [
    {
     "data": {
      "image/png": "[encoded data removed]",
      "text/plain": [
       "3×7 MosaicView{Gray{Bool},4,Base.ReshapedArray{Gray{Bool},4,PaddedView{Gray{Bool},3,Tuple{Base.OneTo{Int64},Base.OneTo{Int64},Base.OneTo{Int64}},Array{Gray{Bool},3}},Tuple{Base.MultiplicativeInverses.SignedMultiplicativeInverse{Int64},Base.MultiplicativeInverses.SignedMultiplicativeInverse{Int64}}}}:\n",
       " Gray{Bool}(false)  Gray{Bool}(false)  …  Gray{Bool}(false)\n",
       " Gray{Bool}(true)   Gray{Bool}(false)     Gray{Bool}(false)\n",
       " Gray{Bool}(true)   Gray{Bool}(false)     Gray{Bool}(false)"
      ]
     },
     "execution_count": 2,
     "metadata": {},
     "output_type": "execute_result"
    }
   ],
   "source": [
    "T = Bool[0 0 0; 1 0 1; 1 0 1]\n",
    "H = Bool[0 1 0; 0 0 0; 0 1 0]\n",
    "\n",
    "mosaicview(Gray.(T), Gray.(H); nrow=1, npad=1, fillvalue=1)"
   ]
  },
  {
   "cell_type": "code",
   "execution_count": 4,
   "metadata": {},
   "outputs": [],
   "source": [
    "X, y = [reshape(T, (1,:)); reshape(H, (1,:))], [\"T\", \"H\"]\n",
    "\n",
    "model = MultiDiscriminatorClassifier{String}(9, 3; seed=1)\n",
    "\n",
    "train!(model, X, y)"
   ]
  },
  {
   "cell_type": "code",
   "execution_count": 5,
   "metadata": {},
   "outputs": [
    {
     "data": {
      "text/plain": [
       "2-element Array{String,1}:\n",
       " \"T\"\n",
       " \"H\""
      ]
     },
     "execution_count": 5,
     "metadata": {},
     "output_type": "execute_result"
    }
   ],
   "source": [
    "predict(model, X)"
   ]
  },
  {
   "cell_type": "markdown",
   "metadata": {},
   "source": [
    "Testing with novel data:"
   ]
  },
  {
   "cell_type": "code",
   "execution_count": 10,
   "metadata": {},
   "outputs": [
    {
     "data": {
      "image/png": "[encoded data removed]",
      "text/plain": [
       "3×11 MosaicView{Gray{Bool},4,Base.ReshapedArray{Gray{Bool},4,PaddedView{Gray{Bool},3,Tuple{Base.OneTo{Int64},Base.OneTo{Int64},Base.OneTo{Int64}},Array{Gray{Bool},3}},Tuple{Base.MultiplicativeInverses.SignedMultiplicativeInverse{Int64},Base.MultiplicativeInverses.SignedMultiplicativeInverse{Int64}}}}:\n",
       " Gray{Bool}(false)  Gray{Bool}(false)  Gray{Bool}(true)  …  Gray{Bool}(true)\n",
       " Gray{Bool}(true)   Gray{Bool}(false)  Gray{Bool}(true)     Gray{Bool}(false)\n",
       " Gray{Bool}(true)   Gray{Bool}(false)  Gray{Bool}(true)     Gray{Bool}(false)"
      ]
     },
     "execution_count": 10,
     "metadata": {},
     "output_type": "execute_result"
    }
   ],
   "source": [
    "kinda_T = Bool[0 0 1; 1 0 1; 1 0 1]\n",
    "kinda_H = Bool[0 1 0; 0 0 0; 0 0 0]\n",
    "kinda_nothing = Bool[1 0 1; 1 0 0; 1 0 0]\n",
    "\n",
    "mosaicview(Gray.(kinda_T), Gray.(kinda_H), Gray.(kinda_nothing); nrow=1, npad=1, fillvalue=1)"
   ]
  },
  {
   "cell_type": "code",
   "execution_count": 13,
   "metadata": {},
   "outputs": [
    {
     "data": {
      "text/plain": [
       "3-element Array{String,1}:\n",
       " \"T\"\n",
       " \"H\"\n",
       " \"T\""
      ]
     },
     "execution_count": 13,
     "metadata": {},
     "output_type": "execute_result"
    }
   ],
   "source": [
    "X_test = [reshape(kinda_T, (1,:)); reshape(kinda_H, (1,:)); reshape(kinda_nothing, (1,:))]\n",
    "\n",
    "predict(model, X_test)"
   ]
  },
  {
   "cell_type": "markdown",
   "metadata": {},
   "source": [
    "MNIST:"
   ]
  },
  {
   "cell_type": "code",
   "execution_count": 74,
   "metadata": {},
   "outputs": [
    {
     "name": "stdout",
     "output_type": "stream",
     "text": [
      "  1.547073 seconds (6.84 M allocations: 459.153 MiB, 8.93% gc time)\n"
     ]
    }
   ],
   "source": [
    "X_train = transpose(reshape(MNIST.traintensor(), 784, :)) .> 0.5\n",
    "y_train = MNIST.trainlabels()\n",
    "\n",
    "X_test = transpose(reshape(MNIST.testtensor(), 784, :)) .> 0.5\n",
    "y_test = MNIST.testlabels()\n",
    "\n",
    "model_digits = MultiDiscriminatorClassifier{Int64}(784, 28; seed=1)\n",
    "\n",
    "time_train!(model, X, y) = @time train!(model, X, y)\n",
    "\n",
    "time_train!(model_digits, X_train, y_train)"
   ]
  },
  {
   "cell_type": "code",
   "execution_count": 73,
   "metadata": {},
   "outputs": [
    {
     "data": {
      "text/plain": [
       "time_accuracy (generic function with 1 method)"
      ]
     },
     "execution_count": 73,
     "metadata": {},
     "output_type": "execute_result"
    }
   ],
   "source": [
    "function accuracy(y_pred, y_target)\n",
    "    sum(y_pred .== y_target)/length(y_pred)\n",
    "end\n",
    "\n",
    "time_accuracy(y_pred, y_target) = @time accuracy(y_pred, y_target)"
   ]
  },
  {
   "cell_type": "code",
   "execution_count": 76,
   "metadata": {},
   "outputs": [
    {
     "name": "stdout",
     "output_type": "stream",
     "text": [
      "  0.000919 seconds (3 allocations: 5.547 KiB)\n"
     ]
    },
    {
     "data": {
      "text/plain": [
       "0.8104"
      ]
     },
     "execution_count": 76,
     "metadata": {},
     "output_type": "execute_result"
    }
   ],
   "source": [
    "time_accuracy(predict(model_digits, X_test), y_test)"
   ]
  },
  {
   "cell_type": "markdown",
   "metadata": {},
   "source": [
    "This result is similar to what I get with `wisardpkg` with bleaching **deactivated** but worst then the accuracy when it's activated"
   ]
  }
 ],
 "metadata": {
  "@webio": {
   "lastCommId": null,
   "lastKernelId": null
  },
  "kernelspec": {
   "display_name": "Julia 1.5.2",
   "language": "julia",
   "name": "julia-1.5"
  },
  "language_info": {
   "file_extension": ".jl",
   "mimetype": "application/julia",
   "name": "julia",
   "version": "1.5.2"
  }
 },
 "nbformat": 4,
 "nbformat_minor": 4
}
