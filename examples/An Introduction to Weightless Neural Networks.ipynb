{
 "cells": [
  {
   "cell_type": "code",
   "execution_count": 1,
   "metadata": {},
   "outputs": [
    {
     "name": "stderr",
     "output_type": "stream",
     "text": [
      "┌ Info: Precompiling MLDatasets [eb30cadb-4394-5ae3-aed4-317e484a6458]\n",
      "└ @ Base loading.jl:1278\n"
     ]
    }
   ],
   "source": [
    "using ramnet\n",
    "using ramnet.Utils: stack, ambiguity\n",
    "using Images\n",
    "using MLDatasets\n",
    "using BenchmarkTools"
   ]
  },
  {
   "cell_type": "code",
   "execution_count": 2,
   "metadata": {
    "scrolled": true
   },
   "outputs": [
    {
     "data": {
      "image/png": "[encoded data removed]",
      "text/plain": [
       "3×7 MosaicView{Gray{Bool},4,Base.ReshapedArray{Gray{Bool},4,PaddedView{Gray{Bool},3,Tuple{Base.OneTo{Int64},Base.OneTo{Int64},Base.OneTo{Int64}},Array{Gray{Bool},3}},Tuple{Base.MultiplicativeInverses.SignedMultiplicativeInverse{Int64},Base.MultiplicativeInverses.SignedMultiplicativeInverse{Int64}}}}:\n",
       " Gray{Bool}(false)  Gray{Bool}(false)  …  Gray{Bool}(false)\n",
       " Gray{Bool}(true)   Gray{Bool}(false)     Gray{Bool}(false)\n",
       " Gray{Bool}(true)   Gray{Bool}(false)     Gray{Bool}(false)"
      ]
     },
     "execution_count": 2,
     "metadata": {},
     "output_type": "execute_result"
    }
   ],
   "source": [
    "T = Bool[0 0 0; 1 0 1; 1 0 1]\n",
    "H = Bool[0 1 0; 0 0 0; 0 1 0]\n",
    "\n",
    "mosaicview(Gray.(T), Gray.(H); nrow=1, npad=1, fillvalue=1)"
   ]
  },
  {
   "cell_type": "code",
   "execution_count": 3,
   "metadata": {},
   "outputs": [],
   "source": [
    "X, y = stack(vec(T), vec(H)), [\"T\", \"H\"]\n",
    "\n",
    "model = MultiDiscriminatorClassifier{String}(9, 3; seed=1)\n",
    "\n",
    "train!(model, X, y)"
   ]
  },
  {
   "cell_type": "code",
   "execution_count": 4,
   "metadata": {},
   "outputs": [
    {
     "data": {
      "text/plain": [
       "2-element Array{String,1}:\n",
       " \"T\"\n",
       " \"H\""
      ]
     },
     "execution_count": 4,
     "metadata": {},
     "output_type": "execute_result"
    }
   ],
   "source": [
    "predict(model, X)"
   ]
  },
  {
   "cell_type": "markdown",
   "metadata": {},
   "source": [
    "Testing with novel data:"
   ]
  },
  {
   "cell_type": "code",
   "execution_count": 5,
   "metadata": {},
   "outputs": [
    {
     "data": {
      "image/png": "[encoded data removed]",
      "text/plain": [
       "3×11 MosaicView{Gray{Bool},4,Base.ReshapedArray{Gray{Bool},4,PaddedView{Gray{Bool},3,Tuple{Base.OneTo{Int64},Base.OneTo{Int64},Base.OneTo{Int64}},Array{Gray{Bool},3}},Tuple{Base.MultiplicativeInverses.SignedMultiplicativeInverse{Int64},Base.MultiplicativeInverses.SignedMultiplicativeInverse{Int64}}}}:\n",
       " Gray{Bool}(false)  Gray{Bool}(false)  Gray{Bool}(true)  …  Gray{Bool}(true)\n",
       " Gray{Bool}(true)   Gray{Bool}(false)  Gray{Bool}(true)     Gray{Bool}(false)\n",
       " Gray{Bool}(true)   Gray{Bool}(false)  Gray{Bool}(true)     Gray{Bool}(false)"
      ]
     },
     "execution_count": 5,
     "metadata": {},
     "output_type": "execute_result"
    }
   ],
   "source": [
    "kinda_T = Bool[0 0 1; 1 0 1; 1 0 1]\n",
    "kinda_H = Bool[0 1 0; 0 0 0; 0 0 0]\n",
    "kinda_nothing = Bool[1 0 1; 1 0 0; 1 0 0]\n",
    "\n",
    "mosaicview(Gray.(kinda_T), Gray.(kinda_H), Gray.(kinda_nothing); nrow=1, npad=1, fillvalue=1)"
   ]
  },
  {
   "cell_type": "code",
   "execution_count": 6,
   "metadata": {},
   "outputs": [
    {
     "data": {
      "text/plain": [
       "3-element Array{String,1}:\n",
       " \"T\"\n",
       " \"H\"\n",
       " \"T\""
      ]
     },
     "execution_count": 6,
     "metadata": {},
     "output_type": "execute_result"
    }
   ],
   "source": [
    "X_test = stack(map(vec, [kinda_T, kinda_H, kinda_nothing])...)\n",
    "\n",
    "predict(model, X_test)"
   ]
  },
  {
   "cell_type": "markdown",
   "metadata": {},
   "source": [
    "MNIST:"
   ]
  },
  {
   "cell_type": "code",
   "execution_count": 8,
   "metadata": {},
   "outputs": [
    {
     "name": "stdout",
     "output_type": "stream",
     "text": [
      "  1.460 s (6840000 allocations: 448.61 MiB)\n"
     ]
    }
   ],
   "source": [
    "X_train = permutedims(reshape(MNIST.traintensor(), 784, :)) .> 0.5\n",
    "y_train = MNIST.trainlabels()\n",
    "\n",
    "X_test = permutedims(reshape(MNIST.testtensor(), 784, :)) .> 0.5\n",
    "y_test = MNIST.testlabels()\n",
    "\n",
    "model_digits = MultiDiscriminatorClassifier{Int64}(784, 28; seed=1)\n",
    "\n",
    "time_train!(model, X, y) = @btime train!($model, $X, $y)\n",
    "\n",
    "time_train!(model_digits, X_train, y_train)"
   ]
  },
  {
   "cell_type": "code",
   "execution_count": 9,
   "metadata": {},
   "outputs": [
    {
     "data": {
      "text/plain": [
       "time_accuracy (generic function with 1 method)"
      ]
     },
     "execution_count": 9,
     "metadata": {},
     "output_type": "execute_result"
    }
   ],
   "source": [
    "function accuracy(y_pred, y_target)\n",
    "    sum(y_pred .== y_target)/length(y_pred)\n",
    "end\n",
    "\n",
    "time_accuracy(y_pred, y_target) = @btime accuracy($y_pred, $y_target)"
   ]
  },
  {
   "cell_type": "code",
   "execution_count": 10,
   "metadata": {},
   "outputs": [
    {
     "name": "stdout",
     "output_type": "stream",
     "text": [
      "  5.045 μs (3 allocations: 5.55 KiB)\n"
     ]
    },
    {
     "data": {
      "text/plain": [
       "0.8104"
      ]
     },
     "execution_count": 10,
     "metadata": {},
     "output_type": "execute_result"
    }
   ],
   "source": [
    "time_accuracy(predict(model_digits, X_test), y_test)"
   ]
  },
  {
   "cell_type": "markdown",
   "metadata": {},
   "source": [
    "This result is similar to what I get with `wisardpkg` with bleaching **deactivated** but worst then the accuracy when it's activated. Bleaching could be understood as a disambiguation technique, for when there is a tie between discriminators' responses during classification. Before making use of bleaching, it would be interesting to measure the frequency of draws in the classfication of this test set:"
   ]
  },
  {
   "cell_type": "code",
   "execution_count": 13,
   "metadata": {},
   "outputs": [
    {
     "data": {
      "text/plain": [
       "0.172"
      ]
     },
     "execution_count": 13,
     "metadata": {},
     "output_type": "execute_result"
    }
   ],
   "source": [
    "ambiguity((values ∘ predict_response)(model_digits, X_test)...)"
   ]
  },
  {
   "cell_type": "markdown",
   "metadata": {},
   "source": [
    "More then **17%** of the test images are tying and we should assume that a good number of them are being misclassified."
   ]
  }
 ],
 "metadata": {
  "@webio": {
   "lastCommId": null,
   "lastKernelId": null
  },
  "kernelspec": {
   "display_name": "Julia 1.5.2",
   "language": "julia",
   "name": "julia-1.5"
  },
  "language_info": {
   "file_extension": ".jl",
   "mimetype": "application/julia",
   "name": "julia",
   "version": "1.5.2"
  }
 },
 "nbformat": 4,
 "nbformat_minor": 4
}
